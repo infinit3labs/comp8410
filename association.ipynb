{
 "cells": [
  {
   "cell_type": "code",
   "execution_count": 126,
   "outputs": [],
   "source": [
    "import pandas as pd\n",
    "from mlxtend.frequent_patterns import apriori\n",
    "from mlxtend.frequent_patterns import association_rules"
   ],
   "metadata": {
    "collapsed": false,
    "ExecuteTime": {
     "start_time": "2023-05-02T17:34:38.250200Z",
     "end_time": "2023-05-02T17:34:38.314049Z"
    }
   }
  },
  {
   "cell_type": "code",
   "execution_count": 127,
   "outputs": [],
   "source": [
    "keep_cols = [\n",
    "    'atgs_cat',\n",
    "    # 'Q16i_recoded',\n",
    "    'gamble_freq_cat',\n",
    "    'Q18_cat',\n",
    "    # 'r_switch_dir',  # Too skewed\n",
    "    # 'r_indifference_point',\n",
    "    'lotto_count',\n",
    "    'Q20_cat',\n",
    "    # 's_switch_dir',\n",
    "    # 's_indifference_point',\n",
    "    'delay_count',\n",
    "]"
   ],
   "metadata": {
    "collapsed": false,
    "ExecuteTime": {
     "start_time": "2023-05-02T17:34:38.266140Z",
     "end_time": "2023-05-02T17:34:38.314049Z"
    }
   }
  },
  {
   "cell_type": "code",
   "execution_count": 128,
   "outputs": [],
   "source": [
    "filters = {\n",
    "    'is_gambler': {\n",
    "        'opts': ['0', '1'],\n",
    "        'min_supp': 0.08,\n",
    "        'cols': [i for i in (keep_cols + ['is_gambler']) if i not in ['gamble_freq_cat']],\n",
    "    },\n",
    "    'pgsi_binary': {\n",
    "        'opts': ['0', '1'],\n",
    "        'min_supp': 0.08,\n",
    "        'cols': keep_cols + ['pgsi_binary'],\n",
    "    }\n",
    "}"
   ],
   "metadata": {
    "collapsed": false,
    "ExecuteTime": {
     "start_time": "2023-05-02T17:34:38.299526Z",
     "end_time": "2023-05-02T17:34:38.314049Z"
    }
   }
  },
  {
   "cell_type": "code",
   "execution_count": 129,
   "outputs": [
    {
     "name": "stdout",
     "output_type": "stream",
     "text": [
      "is_gambler: 0\n",
      "(96, 10)\n",
      "(96, 5)\n",
      "is_gambler: 1\n",
      "(30, 10)\n",
      "(30, 5)\n",
      "pgsi_binary: 0\n",
      "(42, 10)\n",
      "(42, 5)\n",
      "pgsi_binary: 1\n",
      "(240, 10)\n",
      "(240, 5)\n"
     ]
    }
   ],
   "source": [
    "for k, v in filters.items():\n",
    "    for i in v['opts']:\n",
    "        filename = 'baseline_clean.csv'\n",
    "        df = pd.read_csv(filename, dtype=str)\n",
    "        print(f'{k}: {i}')\n",
    "        df = df[df[k] == i]\n",
    "        df = df[v['cols']]\n",
    "        df = pd.get_dummies(df)\n",
    "        df = df.astype('bool')\n",
    "        frequent_itemsets = apriori(df, min_support=v['min_supp'], use_colnames=True)\n",
    "        rules = association_rules(frequent_itemsets, metric=\"lift\", min_threshold=1.1)\n",
    "        print(rules.shape)\n",
    "        cols = ['antecedents','consequents']\n",
    "        out = rules[cols].applymap(lambda x: tuple(x))\n",
    "        for c in ['lift', 'support']:\n",
    "            out[c] = [i for i in rules[c]]\n",
    "        out['type'] = f'{k}_{i}'\n",
    "        out = out.drop_duplicates()\n",
    "        print(out.shape)\n",
    "        out.to_csv(f'associations_{k}_{i}_lift.csv')"
   ],
   "metadata": {
    "collapsed": false,
    "ExecuteTime": {
     "start_time": "2023-05-02T17:34:38.314049Z",
     "end_time": "2023-05-02T17:34:38.797110Z"
    }
   }
  },
  {
   "cell_type": "code",
   "execution_count": 129,
   "outputs": [],
   "source": [],
   "metadata": {
    "collapsed": false,
    "ExecuteTime": {
     "start_time": "2023-05-02T17:34:38.806956Z",
     "end_time": "2023-05-02T17:34:38.813155Z"
    }
   }
  }
 ],
 "metadata": {
  "kernelspec": {
   "display_name": "Python 3",
   "language": "python",
   "name": "python3"
  },
  "language_info": {
   "codemirror_mode": {
    "name": "ipython",
    "version": 2
   },
   "file_extension": ".py",
   "mimetype": "text/x-python",
   "name": "python",
   "nbconvert_exporter": "python",
   "pygments_lexer": "ipython2",
   "version": "2.7.6"
  }
 },
 "nbformat": 4,
 "nbformat_minor": 0
}
