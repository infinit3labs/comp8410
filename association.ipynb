{
 "cells": [
  {
   "cell_type": "code",
   "execution_count": 69,
   "outputs": [],
   "source": [
    "import pandas as pd\n",
    "from mlxtend.frequent_patterns import apriori\n",
    "from mlxtend.frequent_patterns import association_rules"
   ],
   "metadata": {
    "collapsed": false,
    "ExecuteTime": {
     "start_time": "2023-04-23T10:04:52.444211Z",
     "end_time": "2023-04-23T10:04:52.507235Z"
    }
   }
  },
  {
   "cell_type": "code",
   "execution_count": 70,
   "outputs": [],
   "source": [
    "keep_cols = [\n",
    "    'atgs_cat',\n",
    "    # 'Q16i_recoded',\n",
    "    'gamble_freq_cat',\n",
    "    'Q18_cat',\n",
    "    # 'r_switch_dir',  # Too skewed\n",
    "    # 'r_indifference_point',\n",
    "    'lotto_count',\n",
    "    'Q20_cat',\n",
    "    # 's_switch_dir',\n",
    "    # 's_indifference_point',\n",
    "    'delay_count',\n",
    "]"
   ],
   "metadata": {
    "collapsed": false,
    "ExecuteTime": {
     "start_time": "2023-04-23T10:04:52.459547Z",
     "end_time": "2023-04-23T10:04:52.507235Z"
    }
   }
  },
  {
   "cell_type": "code",
   "execution_count": 71,
   "outputs": [],
   "source": [
    "filters = {\n",
    "    'is_gambler': {\n",
    "        'opts': ['0', '1'],\n",
    "        'min_supp': 0.08,\n",
    "        'cols': [i for i in (keep_cols + ['is_gambler']) if i not in ['gamble_freq_cat']]\n",
    "    },\n",
    "    'pgsi_binary': {\n",
    "        'opts': ['0', '1'],\n",
    "        'min_supp': 0.08,\n",
    "        'cols': keep_cols + ['pgsi_binary']\n",
    "    }\n",
    "}"
   ],
   "metadata": {
    "collapsed": false,
    "ExecuteTime": {
     "start_time": "2023-04-23T10:04:52.476787Z",
     "end_time": "2023-04-23T10:04:52.507235Z"
    }
   }
  },
  {
   "cell_type": "code",
   "execution_count": 72,
   "outputs": [
    {
     "name": "stdout",
     "output_type": "stream",
     "text": [
      "is_gambler: 0\n",
      "(64, 10)\n",
      "(44, 6)\n",
      "is_gambler: 1\n",
      "(55, 10)\n",
      "(35, 6)\n",
      "pgsi_binary: 0\n"
     ]
    },
    {
     "name": "stderr",
     "output_type": "stream",
     "text": [
      "C:\\Users\\u4587\\AppData\\Local\\Temp\\ipykernel_5356\\199985822.py:20: SettingWithCopyWarning: \n",
      "A value is trying to be set on a copy of a slice from a DataFrame.\n",
      "Try using .loc[row_indexer,col_indexer] = value instead\n",
      "\n",
      "See the caveats in the documentation: https://pandas.pydata.org/pandas-docs/stable/user_guide/indexing.html#returning-a-view-versus-a-copy\n",
      "  filtered_df['type'] = f'{k}_{i}'\n",
      "C:\\Users\\u4587\\AppData\\Local\\Temp\\ipykernel_5356\\199985822.py:20: SettingWithCopyWarning: \n",
      "A value is trying to be set on a copy of a slice from a DataFrame.\n",
      "Try using .loc[row_indexer,col_indexer] = value instead\n",
      "\n",
      "See the caveats in the documentation: https://pandas.pydata.org/pandas-docs/stable/user_guide/indexing.html#returning-a-view-versus-a-copy\n",
      "  filtered_df['type'] = f'{k}_{i}'\n"
     ]
    },
    {
     "name": "stdout",
     "output_type": "stream",
     "text": [
      "(63, 10)\n",
      "(40, 6)\n",
      "pgsi_binary: 1\n",
      "(92, 10)\n",
      "(65, 6)\n"
     ]
    },
    {
     "name": "stderr",
     "output_type": "stream",
     "text": [
      "C:\\Users\\u4587\\AppData\\Local\\Temp\\ipykernel_5356\\199985822.py:20: SettingWithCopyWarning: \n",
      "A value is trying to be set on a copy of a slice from a DataFrame.\n",
      "Try using .loc[row_indexer,col_indexer] = value instead\n",
      "\n",
      "See the caveats in the documentation: https://pandas.pydata.org/pandas-docs/stable/user_guide/indexing.html#returning-a-view-versus-a-copy\n",
      "  filtered_df['type'] = f'{k}_{i}'\n",
      "C:\\Users\\u4587\\AppData\\Local\\Temp\\ipykernel_5356\\199985822.py:20: SettingWithCopyWarning: \n",
      "A value is trying to be set on a copy of a slice from a DataFrame.\n",
      "Try using .loc[row_indexer,col_indexer] = value instead\n",
      "\n",
      "See the caveats in the documentation: https://pandas.pydata.org/pandas-docs/stable/user_guide/indexing.html#returning-a-view-versus-a-copy\n",
      "  filtered_df['type'] = f'{k}_{i}'\n"
     ]
    }
   ],
   "source": [
    "for k, v in filters.items():\n",
    "    for i in v['opts']:\n",
    "        filename = 'baseline_clean.csv'\n",
    "        df = pd.read_csv(filename, dtype=str)\n",
    "        print(f'{k}: {i}')\n",
    "        df = df[df[k] == i]\n",
    "        df = df[v['cols']]\n",
    "        df = pd.get_dummies(df)\n",
    "        df = df.astype('bool')\n",
    "        frequent_itemsets = apriori(df, min_support=v['min_supp'], use_colnames=True)\n",
    "        rules = association_rules(frequent_itemsets, metric=\"confidence\", min_threshold=0.7)\n",
    "        print(rules.shape)\n",
    "        cols = ['antecedents','consequents']\n",
    "        out = rules[cols].applymap(lambda x: tuple(x))\n",
    "        out.to_csv(f'association_rules_{k}_{i}.csv')\n",
    "        for c in ['lift', 'support', 'confidence']:\n",
    "            out[c] = [i for i in rules[c]]\n",
    "        ig = out[out['consequents'] == (f'{k}_{i}',)]\n",
    "        filtered_df = ig[ig['antecedents'].apply(lambda x: 6 > len(x) > 1)]\n",
    "        filtered_df['type'] = f'{k}_{i}'\n",
    "        print(filtered_df.shape)\n",
    "        filtered_df.to_csv(f'associations_{k}_{i}.csv')"
   ],
   "metadata": {
    "collapsed": false,
    "ExecuteTime": {
     "start_time": "2023-04-23T10:04:52.505228Z",
     "end_time": "2023-04-23T10:04:52.884285Z"
    }
   }
  }
 ],
 "metadata": {
  "kernelspec": {
   "display_name": "Python 3",
   "language": "python",
   "name": "python3"
  },
  "language_info": {
   "codemirror_mode": {
    "name": "ipython",
    "version": 2
   },
   "file_extension": ".py",
   "mimetype": "text/x-python",
   "name": "python",
   "nbconvert_exporter": "python",
   "pygments_lexer": "ipython2",
   "version": "2.7.6"
  }
 },
 "nbformat": 4,
 "nbformat_minor": 0
}
