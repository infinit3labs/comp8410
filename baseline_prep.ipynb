{
 "cells": [
  {
   "cell_type": "code",
   "execution_count": 1,
   "metadata": {
    "collapsed": true,
    "ExecuteTime": {
     "start_time": "2023-04-21T10:29:24.199972Z",
     "end_time": "2023-04-21T10:29:24.213327Z"
    }
   },
   "outputs": [],
   "source": [
    "import pandas as pd\n",
    "import numpy as np"
   ]
  },
  {
   "cell_type": "code",
   "execution_count": 2,
   "outputs": [],
   "source": [
    "df = pd.read_csv('full_v3.csv', dtype='str')"
   ],
   "metadata": {
    "collapsed": false,
    "ExecuteTime": {
     "start_time": "2023-04-21T10:29:24.214325Z",
     "end_time": "2023-04-21T10:29:24.250361Z"
    }
   }
  },
  {
   "cell_type": "code",
   "execution_count": 3,
   "outputs": [],
   "source": [
    "df = df.replace(' ', '')\n",
    "df = df.replace('', np.nan)"
   ],
   "metadata": {
    "collapsed": false,
    "ExecuteTime": {
     "start_time": "2023-04-21T10:29:24.246361Z",
     "end_time": "2023-04-21T10:29:24.261798Z"
    }
   }
  },
  {
   "cell_type": "code",
   "execution_count": 4,
   "outputs": [],
   "source": [
    "df['atgs_cat'] = pd.qcut(df['atgs_score'].astype('int'), q=4, labels=['1', '2', '3', '4'])\n",
    "df['Q18_cat'] = pd.qcut(df['Q18'].astype('int'), q=4, labels=['1', '2', '3', '4'])\n",
    "df['Q20_cat'] = pd.qcut(df['Q20'].astype('int'), q=4, labels=['1', '2', '3', '4'])\n",
    "df['pgsi_binary'] = np.where((df['pgsi_cat'].astype('float') > 0), 1, 0)"
   ],
   "metadata": {
    "collapsed": false,
    "ExecuteTime": {
     "start_time": "2023-04-21T10:29:24.265159Z",
     "end_time": "2023-04-21T10:29:24.292529Z"
    }
   }
  },
  {
   "cell_type": "code",
   "execution_count": 5,
   "outputs": [],
   "source": [
    "df.to_csv('baseline_clean.csv', index=False)"
   ],
   "metadata": {
    "collapsed": false,
    "ExecuteTime": {
     "start_time": "2023-04-21T10:29:24.296542Z",
     "end_time": "2023-04-21T10:29:24.339944Z"
    }
   }
  },
  {
   "cell_type": "code",
   "execution_count": 5,
   "outputs": [],
   "source": [],
   "metadata": {
    "collapsed": false,
    "ExecuteTime": {
     "start_time": "2023-04-21T10:29:24.339944Z",
     "end_time": "2023-04-21T10:29:24.356035Z"
    }
   }
  }
 ],
 "metadata": {
  "kernelspec": {
   "display_name": "Python 3",
   "language": "python",
   "name": "python3"
  },
  "language_info": {
   "codemirror_mode": {
    "name": "ipython",
    "version": 2
   },
   "file_extension": ".py",
   "mimetype": "text/x-python",
   "name": "python",
   "nbconvert_exporter": "python",
   "pygments_lexer": "ipython2",
   "version": "2.7.6"
  }
 },
 "nbformat": 4,
 "nbformat_minor": 0
}
